{
 "cells": [
  {
   "cell_type": "markdown",
   "metadata": {},
   "source": [
    "## Exploring the data"
   ]
  },
  {
   "cell_type": "code",
   "execution_count": 63,
   "metadata": {},
   "outputs": [
    {
     "name": "stdout",
     "output_type": "stream",
     "text": [
      "         City  Murder  Assault  UrbanPop   Rape\n",
      "0     Alabama  13.200      236        58 21.200\n",
      "1      Alaska  10.000      263        48 44.500\n",
      "2     Arizona   8.100      294        80 31.000\n",
      "3    Arkansas   8.800      190        50 19.500\n",
      "4  California   9.000      276        91 40.600\n"
     ]
    }
   ],
   "source": [
    "import pandas as pd\n",
    "from sklearn.preprocessing import StandardScaler\n",
    "from sklearn.decomposition import PCA\n",
    "from sklearn.cluster import KMeans, AgglomerativeClustering\n",
    "import matplotlib.pyplot as plt\n",
    "import seaborn as sns\n",
    "import numpy as np\n",
    "\n",
    "\n",
    "# Load the data\n",
    "df = pd.read_csv(\"UsArrests.csv\")\n",
    "print(df.head())"
   ]
  },
  {
   "cell_type": "code",
   "execution_count": 64,
   "metadata": {},
   "outputs": [
    {
     "name": "stdout",
     "output_type": "stream",
     "text": [
      "Number of cases: 50 Number of features: 5\n"
     ]
    }
   ],
   "source": [
    "print('Number of cases: {} Number of features: {}'.format(df.shape[0],df.shape[1]))"
   ]
  },
  {
   "cell_type": "markdown",
   "metadata": {},
   "source": [
    "The output should be (50, 5), indicating that the dataset contains 50 observations (rows) and 5 features (columns)."
   ]
  },
  {
   "cell_type": "code",
   "execution_count": 65,
   "metadata": {},
   "outputs": [
    {
     "data": {
      "text/html": [
       "<div>\n",
       "<style scoped>\n",
       "    .dataframe tbody tr th:only-of-type {\n",
       "        vertical-align: middle;\n",
       "    }\n",
       "\n",
       "    .dataframe tbody tr th {\n",
       "        vertical-align: top;\n",
       "    }\n",
       "\n",
       "    .dataframe thead th {\n",
       "        text-align: right;\n",
       "    }\n",
       "</style>\n",
       "<table border=\"1\" class=\"dataframe\">\n",
       "  <thead>\n",
       "    <tr style=\"text-align: right;\">\n",
       "      <th></th>\n",
       "      <th>mean</th>\n",
       "      <th>std</th>\n",
       "      <th>min</th>\n",
       "      <th>max</th>\n",
       "    </tr>\n",
       "  </thead>\n",
       "  <tbody>\n",
       "    <tr>\n",
       "      <th>Murder</th>\n",
       "      <td>7.79</td>\n",
       "      <td>4.36</td>\n",
       "      <td>0.80</td>\n",
       "      <td>17.40</td>\n",
       "    </tr>\n",
       "    <tr>\n",
       "      <th>Assault</th>\n",
       "      <td>170.76</td>\n",
       "      <td>83.34</td>\n",
       "      <td>45.00</td>\n",
       "      <td>337.00</td>\n",
       "    </tr>\n",
       "    <tr>\n",
       "      <th>UrbanPop</th>\n",
       "      <td>65.54</td>\n",
       "      <td>14.47</td>\n",
       "      <td>32.00</td>\n",
       "      <td>91.00</td>\n",
       "    </tr>\n",
       "    <tr>\n",
       "      <th>Rape</th>\n",
       "      <td>21.23</td>\n",
       "      <td>9.37</td>\n",
       "      <td>7.30</td>\n",
       "      <td>46.00</td>\n",
       "    </tr>\n",
       "  </tbody>\n",
       "</table>\n",
       "</div>"
      ],
      "text/plain": [
       "           mean   std   min    max\n",
       "Murder     7.79  4.36  0.80  17.40\n",
       "Assault  170.76 83.34 45.00 337.00\n",
       "UrbanPop  65.54 14.47 32.00  91.00\n",
       "Rape      21.23  9.37  7.30  46.00"
      ]
     },
     "execution_count": 65,
     "metadata": {},
     "output_type": "execute_result"
    }
   ],
   "source": [
    "#To set the decimal precision:\n",
    "pd.set_option('display.float_format', lambda x: '%.2f' % x) \n",
    "\n",
    "#The describe function give us insight into the statistical properties of the columns\n",
    "stats = df.describe()\n",
    "selected_stats = stats.loc[[\"mean\",\"std\",\"min\",\"max\"]].transpose() #select relevant rows\n",
    "selected_stats"
   ]
  },
  {
   "cell_type": "code",
   "execution_count": 66,
   "metadata": {},
   "outputs": [
    {
     "data": {
      "text/html": [
       "<div>\n",
       "<style scoped>\n",
       "    .dataframe tbody tr th:only-of-type {\n",
       "        vertical-align: middle;\n",
       "    }\n",
       "\n",
       "    .dataframe tbody tr th {\n",
       "        vertical-align: top;\n",
       "    }\n",
       "\n",
       "    .dataframe thead th {\n",
       "        text-align: right;\n",
       "    }\n",
       "</style>\n",
       "<table border=\"1\" class=\"dataframe\">\n",
       "  <thead>\n",
       "    <tr style=\"text-align: right;\">\n",
       "      <th></th>\n",
       "      <th>missing</th>\n",
       "    </tr>\n",
       "  </thead>\n",
       "  <tbody>\n",
       "    <tr>\n",
       "      <th>City</th>\n",
       "      <td>0</td>\n",
       "    </tr>\n",
       "    <tr>\n",
       "      <th>Murder</th>\n",
       "      <td>0</td>\n",
       "    </tr>\n",
       "    <tr>\n",
       "      <th>Assault</th>\n",
       "      <td>0</td>\n",
       "    </tr>\n",
       "    <tr>\n",
       "      <th>UrbanPop</th>\n",
       "      <td>0</td>\n",
       "    </tr>\n",
       "    <tr>\n",
       "      <th>Rape</th>\n",
       "      <td>0</td>\n",
       "    </tr>\n",
       "  </tbody>\n",
       "</table>\n",
       "</div>"
      ],
      "text/plain": [
       "          missing\n",
       "City            0\n",
       "Murder          0\n",
       "Assault         0\n",
       "UrbanPop        0\n",
       "Rape            0"
      ]
     },
     "execution_count": 66,
     "metadata": {},
     "output_type": "execute_result"
    }
   ],
   "source": [
    "# Count missing values\n",
    "missing = df.isnull().sum()\n",
    "relevant_missing = pd.DataFrame(missing, columns=[\"missing\"])\n",
    "relevant_missing"
   ]
  },
  {
   "cell_type": "markdown",
   "metadata": {},
   "source": [
    "The output shows that there are no missing values or duplicates."
   ]
  },
  {
   "cell_type": "code",
   "execution_count": 68,
   "metadata": {},
   "outputs": [
    {
     "name": "stdout",
     "output_type": "stream",
     "text": [
      "<class 'pandas.core.frame.DataFrame'>\n",
      "RangeIndex: 50 entries, 0 to 49\n",
      "Data columns (total 5 columns):\n",
      " #   Column    Non-Null Count  Dtype  \n",
      "---  ------    --------------  -----  \n",
      " 0   City      50 non-null     object \n",
      " 1   Murder    50 non-null     float64\n",
      " 2   Assault   50 non-null     int64  \n",
      " 3   UrbanPop  50 non-null     int64  \n",
      " 4   Rape      50 non-null     float64\n",
      "dtypes: float64(2), int64(2), object(1)\n",
      "memory usage: 2.1+ KB\n"
     ]
    }
   ],
   "source": [
    "# Examine types\n",
    "df.info()"
   ]
  },
  {
   "cell_type": "code",
   "execution_count": 69,
   "metadata": {},
   "outputs": [
    {
     "name": "stderr",
     "output_type": "stream",
     "text": [
      "/Users/elsytheledi/Library/Python/3.11/lib/python/site-packages/seaborn/_oldcore.py:1498: FutureWarning: is_categorical_dtype is deprecated and will be removed in a future version. Use isinstance(dtype, CategoricalDtype) instead\n",
      "  if pd.api.types.is_categorical_dtype(vector):\n",
      "/Users/elsytheledi/Library/Python/3.11/lib/python/site-packages/seaborn/_oldcore.py:1498: FutureWarning: is_categorical_dtype is deprecated and will be removed in a future version. Use isinstance(dtype, CategoricalDtype) instead\n",
      "  if pd.api.types.is_categorical_dtype(vector):\n",
      "/Users/elsytheledi/Library/Python/3.11/lib/python/site-packages/seaborn/_oldcore.py:1498: FutureWarning: is_categorical_dtype is deprecated and will be removed in a future version. Use isinstance(dtype, CategoricalDtype) instead\n",
      "  if pd.api.types.is_categorical_dtype(vector):\n",
      "/Users/elsytheledi/Library/Python/3.11/lib/python/site-packages/seaborn/_oldcore.py:1498: FutureWarning: is_categorical_dtype is deprecated and will be removed in a future version. Use isinstance(dtype, CategoricalDtype) instead\n",
      "  if pd.api.types.is_categorical_dtype(vector):\n",
      "/Users/elsytheledi/Library/Python/3.11/lib/python/site-packages/seaborn/_oldcore.py:1498: FutureWarning: is_categorical_dtype is deprecated and will be removed in a future version. Use isinstance(dtype, CategoricalDtype) instead\n",
      "  if pd.api.types.is_categorical_dtype(vector):\n"
     ]
    },
    {
     "data": {
      "text/plain": [
       "<Axes: >"
      ]
     },
     "execution_count": 69,
     "metadata": {},
     "output_type": "execute_result"
    },
    {
     "data": {
      "image/png": "[encoded data removed]",
      "text/plain": [
       "<Figure size 640x480 with 1 Axes>"
      ]
     },
     "metadata": {},
     "output_type": "display_data"
    }
   ],
   "source": [
    "sns.boxplot(data=df, orient=\"h\") # Check for outliers using boxplot"
   ]
  },
  {
   "cell_type": "markdown",
   "metadata": {},
   "source": [
    "Assault Rates are Generally Higher:\n",
    "The boxplot reveals that the median Assault rate is relatively high, suggesting that, on average, states experience a considerable number of assault incidents per 100,000 residents.\n",
    "Varying Murder Rates:\n",
    "While Assault rates are generally higher, Murder rates exhibit significant variability. There are states with both high and low Murder rates, as indicated by the spread of the boxplot.\n",
    "No Direct Correlation Between Assault and Murder Rates:\n",
    "The boxplot shows that a high Assault rate does not consistently lead to a high Murder rate. States with high Assault rates may have varying Murder rates, and vice versa."
   ]
  },
  {
   "cell_type": "code",
   "execution_count": 70,
   "metadata": {},
   "outputs": [
    {
     "data": {
      "image/png": "[encoded data removed]",
      "text/plain": [
       "<Figure size 640x480 with 2 Axes>"
      ]
     },
     "metadata": {},
     "output_type": "display_data"
    }
   ],
   "source": [
    "\n",
    "\n",
    "# Exclude non-numeric columns\n",
    "numeric_columns = df.select_dtypes(include=[np.number])\n",
    "\n",
    "# Check correlation among features using heatmap\n",
    "corr = numeric_columns.corr()\n",
    "sns.heatmap(corr, cmap=\"coolwarm\", annot=True)\n",
    "plt.show()\n"
   ]
  },
  {
   "cell_type": "markdown",
   "metadata": {},
   "source": [
    "Urban Population and Crime Rates:\n",
    "\n",
    "The heatmap reflects the relationship between Urban Population and crime rates. While there isn't a clear pattern, it indicates a somewhat positive correlation. This implies that states with higher urban populations may, to some extent, exhibit higher crime rates.\n",
    "\n",
    "Insights for Policy and Intervention:\n",
    "\n",
    "Policymakers can use these correlation patterns to inform targeted interventions. For instance, addressing factors contributing to high Assault rates may have a positive impact on Murder rates, given their observed correlation.\n",
    "\n",
    "Holistic Crime Prevention Strategies:\n",
    "\n",
    "The heatmap emphasizes the importance of adopting holistic crime prevention strategies. Effective interventions should consider the interconnected nature of different crime categories and address underlying socio-economic factors."
   ]
  },
  {
   "cell_type": "code",
   "execution_count": 71,
   "metadata": {},
   "outputs": [
    {
     "data": {
      "text/html": [
       "<div>\n",
       "<style scoped>\n",
       "    .dataframe tbody tr th:only-of-type {\n",
       "        vertical-align: middle;\n",
       "    }\n",
       "\n",
       "    .dataframe tbody tr th {\n",
       "        vertical-align: top;\n",
       "    }\n",
       "\n",
       "    .dataframe thead th {\n",
       "        text-align: right;\n",
       "    }\n",
       "</style>\n",
       "<table border=\"1\" class=\"dataframe\">\n",
       "  <thead>\n",
       "    <tr style=\"text-align: right;\">\n",
       "      <th></th>\n",
       "      <th>missing</th>\n",
       "      <th>mean</th>\n",
       "      <th>std</th>\n",
       "      <th>min</th>\n",
       "      <th>max</th>\n",
       "    </tr>\n",
       "  </thead>\n",
       "  <tbody>\n",
       "    <tr>\n",
       "      <th>City</th>\n",
       "      <td>0</td>\n",
       "      <td>NaN</td>\n",
       "      <td>NaN</td>\n",
       "      <td>NaN</td>\n",
       "      <td>NaN</td>\n",
       "    </tr>\n",
       "    <tr>\n",
       "      <th>Murder</th>\n",
       "      <td>0</td>\n",
       "      <td>7.79</td>\n",
       "      <td>4.36</td>\n",
       "      <td>0.80</td>\n",
       "      <td>17.40</td>\n",
       "    </tr>\n",
       "    <tr>\n",
       "      <th>Assault</th>\n",
       "      <td>0</td>\n",
       "      <td>170.76</td>\n",
       "      <td>83.34</td>\n",
       "      <td>45.00</td>\n",
       "      <td>337.00</td>\n",
       "    </tr>\n",
       "    <tr>\n",
       "      <th>UrbanPop</th>\n",
       "      <td>0</td>\n",
       "      <td>65.54</td>\n",
       "      <td>14.47</td>\n",
       "      <td>32.00</td>\n",
       "      <td>91.00</td>\n",
       "    </tr>\n",
       "    <tr>\n",
       "      <th>Rape</th>\n",
       "      <td>0</td>\n",
       "      <td>21.23</td>\n",
       "      <td>9.37</td>\n",
       "      <td>7.30</td>\n",
       "      <td>46.00</td>\n",
       "    </tr>\n",
       "  </tbody>\n",
       "</table>\n",
       "</div>"
      ],
      "text/plain": [
       "          missing   mean   std   min    max\n",
       "City            0    NaN   NaN   NaN    NaN\n",
       "Murder          0   7.79  4.36  0.80  17.40\n",
       "Assault         0 170.76 83.34 45.00 337.00\n",
       "UrbanPop        0  65.54 14.47 32.00  91.00\n",
       "Rape            0  21.23  9.37  7.30  46.00"
      ]
     },
     "execution_count": 71,
     "metadata": {},
     "output_type": "execute_result"
    }
   ],
   "source": [
    "# Create summary table\n",
    "frames = [relevant_missing,selected_stats]\n",
    "summary = pd.concat(frames, axis=1)\n",
    "summary.rename(columns = {0:\"missing\"}, inplace = True)\n",
    "summary.to_csv('summary.csv', index=True) \n",
    "summary"
   ]
  },
  {
   "cell_type": "markdown",
   "metadata": {},
   "source": [
    "The dataset exhibits no missing values. The mean murder rate is 7.79, with a standard deviation of 4.36, ranging from 0.80 to 17.40. Assault rates average at 170.76, displaying a high standard deviation of 83.34, ranging from 45.00 to 337.00. Urban population percentages show a mean of 65.54, a standard deviation of 14.47, and a range from 32.00 to 91.00. The average rape rate is 21.23, with a standard deviation of 9.37, fluctuating between 7.30 and 46.00. Notably, the data suggests that while assault rates vary widely, they do not consistently correlate with murder or rape rates, indicating the need for a nuanced approach to crime prevention and urban development."
   ]
  },
  {
   "cell_type": "markdown",
   "metadata": {},
   "source": [
    "## PCA"
   ]
  },
  {
   "cell_type": "code",
   "execution_count": 72,
   "metadata": {},
   "outputs": [
    {
     "name": "stdout",
     "output_type": "stream",
     "text": [
      "Standard deviation: [1.59 1.   0.6  0.42]\n",
      "Proportion of Variance Explained: [0.62 0.25 0.09 0.04]\n",
      "Cumulative Proportion: [2.53 3.54 3.9  4.08]\n"
     ]
    }
   ],
   "source": [
    "# Extract features (excluding the City column)\n",
    "features = df.drop('City', axis=1)\n",
    "\n",
    "# Standardize the features\n",
    "scaler = StandardScaler()\n",
    "scaled_features = scaler.fit_transform(features)\n",
    "\n",
    "# Perform PCA\n",
    "pca = PCA()\n",
    "X_trans = pca.fit_transform(scaled_features)\n",
    "\n",
    "# Create a DataFrame for the principal components\n",
    "df_pca = pd.DataFrame(X_trans)\n",
    "\n",
    "# Display standard deviation, proportion of variance explained, and cumulative proportion\n",
    "std = df_pca.describe().transpose()[\"std\"]\n",
    "print(f\"Standard deviation: {std.values}\")\n",
    "print(f\"Proportion of Variance Explained: {pca.explained_variance_ratio_}\")\n",
    "print(f\"Cumulative Proportion: {np.cumsum(pca.explained_variance_)}\")\n",
    "\n",
    "\n"
   ]
  },
  {
   "cell_type": "code",
   "execution_count": 73,
   "metadata": {},
   "outputs": [],
   "source": [
    "countries = df.index\n",
    "corr_df = df.drop([\"City\"],axis=1).corr()\n",
    "labels =corr_df.columns\n",
    "\n",
    "correlations = corr_df.corr()"
   ]
  },
  {
   "cell_type": "code",
   "execution_count": 74,
   "metadata": {},
   "outputs": [
    {
     "data": {
      "text/html": [
       "<div>\n",
       "<style scoped>\n",
       "    .dataframe tbody tr th:only-of-type {\n",
       "        vertical-align: middle;\n",
       "    }\n",
       "\n",
       "    .dataframe tbody tr th {\n",
       "        vertical-align: top;\n",
       "    }\n",
       "\n",
       "    .dataframe thead th {\n",
       "        text-align: right;\n",
       "    }\n",
       "</style>\n",
       "<table border=\"1\" class=\"dataframe\">\n",
       "  <thead>\n",
       "    <tr style=\"text-align: right;\">\n",
       "      <th></th>\n",
       "      <th>Features</th>\n",
       "      <th>PC1 Importance</th>\n",
       "      <th>PC2 Importance</th>\n",
       "    </tr>\n",
       "  </thead>\n",
       "  <tbody>\n",
       "    <tr>\n",
       "      <th>0</th>\n",
       "      <td>Murder</td>\n",
       "      <td>0.536</td>\n",
       "      <td>0.418</td>\n",
       "    </tr>\n",
       "    <tr>\n",
       "      <th>1</th>\n",
       "      <td>Assault</td>\n",
       "      <td>0.583</td>\n",
       "      <td>0.188</td>\n",
       "    </tr>\n",
       "    <tr>\n",
       "      <th>2</th>\n",
       "      <td>UrbanPop</td>\n",
       "      <td>0.278</td>\n",
       "      <td>0.873</td>\n",
       "    </tr>\n",
       "    <tr>\n",
       "      <th>3</th>\n",
       "      <td>Rape</td>\n",
       "      <td>0.543</td>\n",
       "      <td>0.167</td>\n",
       "    </tr>\n",
       "  </tbody>\n",
       "</table>\n",
       "</div>"
      ],
      "text/plain": [
       "   Features  PC1 Importance  PC2 Importance\n",
       "0    Murder           0.536           0.418\n",
       "1   Assault           0.583           0.188\n",
       "2  UrbanPop           0.278           0.873\n",
       "3      Rape           0.543           0.167"
      ]
     },
     "execution_count": 74,
     "metadata": {},
     "output_type": "execute_result"
    }
   ],
   "source": [
    "# Feature importance\n",
    "pd.set_option('display.float_format', lambda x: '%.3f' % x) #change precision to see more decimal places\n",
    "\n",
    "pc1 = abs( pca.components_[0] ) #components x features - access at index 0 to get the first component\n",
    "pc2 = abs( pca.components_[1] )\n",
    "\n",
    "feat_df = pd.DataFrame()\n",
    "feat_df[\"Features\"] = list(labels)\n",
    "feat_df[\"PC1 Importance\"] = pc1\n",
    "feat_df[\"PC2 Importance\"] = pc2\n",
    "feat_df"
   ]
  },
  {
   "cell_type": "code",
   "execution_count": 75,
   "metadata": {},
   "outputs": [
    {
     "data": {
      "text/plain": [
       "<Axes: >"
      ]
     },
     "execution_count": 75,
     "metadata": {},
     "output_type": "execute_result"
    },
    {
     "data": {
      "image/png": "[encoded data removed]",
      "text/plain": [
       "<Figure size 640x480 with 2 Axes>"
      ]
     },
     "metadata": {},
     "output_type": "display_data"
    }
   ],
   "source": [
    "import seaborn as sns\n",
    "mask_ut = np.triu(np.ones(corr_df.shape), k=1).astype(bool)\n",
    "sns.heatmap(corr_df, mask=mask_ut, cmap=\"coolwarm\")\n",
    "\n"
   ]
  },
  {
   "cell_type": "markdown",
   "metadata": {},
   "source": [
    "The heatmap generated from the correlation matrix provides insights into the relationships among the features. A positive correlation is observed between assault and murder rates, while rape rates exhibit a weaker positive correlation with assault and murder. The urban population percentage shows a negative correlation with murder and assault rates, suggesting that higher urbanization may be associated with lower crime rates."
   ]
  },
  {
   "cell_type": "code",
   "execution_count": 76,
   "metadata": {},
   "outputs": [
    {
     "data": {
      "text/html": [
       "<div>\n",
       "<style scoped>\n",
       "    .dataframe tbody tr th:only-of-type {\n",
       "        vertical-align: middle;\n",
       "    }\n",
       "\n",
       "    .dataframe tbody tr th {\n",
       "        vertical-align: top;\n",
       "    }\n",
       "\n",
       "    .dataframe thead th {\n",
       "        text-align: right;\n",
       "    }\n",
       "</style>\n",
       "<table border=\"1\" class=\"dataframe\">\n",
       "  <thead>\n",
       "    <tr style=\"text-align: right;\">\n",
       "      <th></th>\n",
       "      <th>0</th>\n",
       "      <th>1</th>\n",
       "      <th>2</th>\n",
       "      <th>3</th>\n",
       "    </tr>\n",
       "  </thead>\n",
       "  <tbody>\n",
       "    <tr>\n",
       "      <th>0</th>\n",
       "      <td>0.986</td>\n",
       "      <td>1.133</td>\n",
       "      <td>-0.444</td>\n",
       "      <td>0.156</td>\n",
       "    </tr>\n",
       "    <tr>\n",
       "      <th>1</th>\n",
       "      <td>1.950</td>\n",
       "      <td>1.073</td>\n",
       "      <td>2.040</td>\n",
       "      <td>-0.439</td>\n",
       "    </tr>\n",
       "    <tr>\n",
       "      <th>2</th>\n",
       "      <td>1.763</td>\n",
       "      <td>-0.746</td>\n",
       "      <td>0.055</td>\n",
       "      <td>-0.835</td>\n",
       "    </tr>\n",
       "    <tr>\n",
       "      <th>3</th>\n",
       "      <td>-0.141</td>\n",
       "      <td>1.120</td>\n",
       "      <td>0.115</td>\n",
       "      <td>-0.183</td>\n",
       "    </tr>\n",
       "    <tr>\n",
       "      <th>4</th>\n",
       "      <td>2.524</td>\n",
       "      <td>-1.543</td>\n",
       "      <td>0.599</td>\n",
       "      <td>-0.342</td>\n",
       "    </tr>\n",
       "  </tbody>\n",
       "</table>\n",
       "</div>"
      ],
      "text/plain": [
       "       0      1      2      3\n",
       "0  0.986  1.133 -0.444  0.156\n",
       "1  1.950  1.073  2.040 -0.439\n",
       "2  1.763 -0.746  0.055 -0.835\n",
       "3 -0.141  1.120  0.115 -0.183\n",
       "4  2.524 -1.543  0.599 -0.342"
      ]
     },
     "execution_count": 76,
     "metadata": {},
     "output_type": "execute_result"
    }
   ],
   "source": [
    "from sklearn.preprocessing import StandardScaler\n",
    "X_std = StandardScaler().fit_transform(X)\n",
    "\n",
    "std_pca = PCA()\n",
    "X_std_trans = std_pca.fit_transform(X_std)\n",
    "\n",
    "df_std_pca = pd.DataFrame(X_std_trans)\n",
    "df_std_pca.head()"
   ]
  },
  {
   "cell_type": "code",
   "execution_count": 77,
   "metadata": {},
   "outputs": [
    {
     "data": {
      "text/html": [
       "<div>\n",
       "<style scoped>\n",
       "    .dataframe tbody tr th:only-of-type {\n",
       "        vertical-align: middle;\n",
       "    }\n",
       "\n",
       "    .dataframe tbody tr th {\n",
       "        vertical-align: top;\n",
       "    }\n",
       "\n",
       "    .dataframe thead th {\n",
       "        text-align: right;\n",
       "    }\n",
       "</style>\n",
       "<table border=\"1\" class=\"dataframe\">\n",
       "  <thead>\n",
       "    <tr style=\"text-align: right;\">\n",
       "      <th></th>\n",
       "      <th>Features</th>\n",
       "      <th>PC1 Importance</th>\n",
       "      <th>PC2 Importance</th>\n",
       "    </tr>\n",
       "  </thead>\n",
       "  <tbody>\n",
       "    <tr>\n",
       "      <th>0</th>\n",
       "      <td>Murder</td>\n",
       "      <td>0.536</td>\n",
       "      <td>0.418</td>\n",
       "    </tr>\n",
       "    <tr>\n",
       "      <th>1</th>\n",
       "      <td>Assault</td>\n",
       "      <td>0.583</td>\n",
       "      <td>0.188</td>\n",
       "    </tr>\n",
       "    <tr>\n",
       "      <th>2</th>\n",
       "      <td>UrbanPop</td>\n",
       "      <td>0.278</td>\n",
       "      <td>0.873</td>\n",
       "    </tr>\n",
       "    <tr>\n",
       "      <th>3</th>\n",
       "      <td>Rape</td>\n",
       "      <td>0.543</td>\n",
       "      <td>0.167</td>\n",
       "    </tr>\n",
       "  </tbody>\n",
       "</table>\n",
       "</div>"
      ],
      "text/plain": [
       "   Features  PC1 Importance  PC2 Importance\n",
       "0    Murder           0.536           0.418\n",
       "1   Assault           0.583           0.188\n",
       "2  UrbanPop           0.278           0.873\n",
       "3      Rape           0.543           0.167"
      ]
     },
     "execution_count": 77,
     "metadata": {},
     "output_type": "execute_result"
    }
   ],
   "source": [
    "# Feature importance\n",
    "\n",
    "pc1 = abs( std_pca.components_[0] ) #components x features - access at index 0 to get the first component\n",
    "pc2 = abs( std_pca.components_[1] )\n",
    "\n",
    "feat_df = pd.DataFrame()\n",
    "feat_df[\"Features\"] = list(labels)\n",
    "feat_df[\"PC1 Importance\"] = pc1\n",
    "feat_df[\"PC2 Importance\"] = pc2\n",
    "feat_df"
   ]
  },
  {
   "cell_type": "markdown",
   "metadata": {},
   "source": [
    "### K-means clustering\n"
   ]
  },
  {
   "cell_type": "code",
   "execution_count": 78,
   "metadata": {},
   "outputs": [
    {
     "name": "stderr",
     "output_type": "stream",
     "text": [
      "/Users/elsytheledi/Library/Python/3.11/lib/python/site-packages/sklearn/cluster/_kmeans.py:1412: FutureWarning: The default value of `n_init` will change from 10 to 'auto' in 1.4. Set the value of `n_init` explicitly to suppress the warning\n",
      "  super()._check_params_vs_input(X, default_n_init=10)\n",
      "No artists with labels found to put in legend.  Note that artists whose label start with an underscore are ignored when legend() is called with no argument.\n"
     ]
    },
    {
     "data": {
      "text/plain": [
       "<matplotlib.legend.Legend at 0x141e1a210>"
      ]
     },
     "execution_count": 78,
     "metadata": {},
     "output_type": "execute_result"
    },
    {
     "data": {
      "image/png": "[encoded data removed]",
      "text/plain": [
       "<Figure size 640x480 with 1 Axes>"
      ]
     },
     "metadata": {},
     "output_type": "display_data"
    }
   ],
   "source": [
    "from sklearn.cluster import KMeans\n",
    "\n",
    "# Fit k-means\n",
    "k = 3\n",
    "kmeans = KMeans(n_clusters=k, init='k-means++', random_state=42)\n",
    "cluster_labels = kmeans.fit_predict(df_pca)\n",
    "\n",
    "# Plot clusters\n",
    "x = X_trans[:, 0]\n",
    "y = X_trans[:, 1]\n",
    "\n",
    "fig, ax = plt.subplots()\n",
    "colours = 'rbgy'\n",
    "for i in range(0, k):\n",
    "    ax.scatter(x[cluster_labels == i], y[cluster_labels == i], c=colours[i]) \n",
    "\n",
    "for i in range(0, len(x)):\n",
    "    txt = df.index[i]\n",
    "    ax.annotate(txt, (x[i], y[i]))\n",
    "\n",
    "ax.set_title(\"K-Means cluster plot\")\n",
    "ax.set_xlabel(\"Dim 2\")\n",
    "ax.set_ylabel(\"Dim 1\")\n",
    "ax.legend()\n"
   ]
  },
  {
   "cell_type": "code",
   "execution_count": 79,
   "metadata": {},
   "outputs": [
    {
     "name": "stdout",
     "output_type": "stream",
     "text": [
      "Group 0: [ 6  7 10 13 15 20 29 34 35 36 37 38 43 45 46 49]\n",
      "\n",
      "\n",
      "Group 1: [ 0  1  2  4  5  8  9 12 17 19 21 23 24 27 30 31 32 39 41 42]\n",
      "\n",
      "\n",
      "Group 2: [ 3 11 14 16 18 22 25 26 28 33 40 44 47 48]\n",
      "\n",
      "\n"
     ]
    }
   ],
   "source": [
    "# Display groups\n",
    "clusters = pd.DataFrame()\n",
    "\n",
    "group0_indices = np.argwhere(cluster_labels == 0).transpose()[0]\n",
    "group1_indices = np.argwhere(cluster_labels == 1).transpose()[0]\n",
    "group2_indices = np.argwhere(cluster_labels == 2).transpose()[0]\n",
    "\n",
    "group0 = np.array(df.index)[group0_indices]\n",
    "group1 = np.array(df.index)[group1_indices]\n",
    "group2 = np.array(df.index)[group2_indices]\n",
    "\n",
    "print(\"Group 0: {}\\n\\n\".format(group0))\n",
    "print(\"Group 1: {}\\n\\n\".format(group1))\n",
    "print(\"Group 2: {}\\n\\n\".format(group2))\n",
    "plt.show()\n"
   ]
  },
  {
   "cell_type": "markdown",
   "metadata": {},
   "source": [
    "the generated clusters visually separate the data into distinct groups. Each point on the cluster plot represents a state, and the colors indicate the assigned cluster. This analysis partitions the states into three groups based on their characteristics, providing a basis for understanding similarities or differences among them. Group 0, Group 1, and Group 2 represent clusters with specific features that distinguish them from each other. Further exploration of these clusters could reveal commonalities in terms of social, economic, or geographical factors that contribute to their grouping."
   ]
  }
 ],
 "metadata": {
  "kernelspec": {
   "display_name": "Python 3",
   "language": "python",
   "name": "python3"
  },
  "language_info": {
   "codemirror_mode": {
    "name": "ipython",
    "version": 3
   },
   "file_extension": ".py",
   "mimetype": "text/x-python",
   "name": "python",
   "nbconvert_exporter": "python",
   "pygments_lexer": "ipython3",
   "version": "3.11.4"
  },
  "orig_nbformat": 4
 },
 "nbformat": 4,
 "nbformat_minor": 2
}
